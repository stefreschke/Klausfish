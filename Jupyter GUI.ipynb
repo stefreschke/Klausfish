{
 "cells": [
  {
   "cell_type": "markdown",
   "metadata": {},
   "source": [
    "Mithilfe dieses Notebooks kann das vereinfachte nicht-UCI-Interface aus *engine.py* verwendet werden. Dabei wird mithilfe des Moduls *chess.svg* schnelles, visuell ansprechendes Feedback bereitgestellt.\n",
    "\n",
    "Um ein neues Spiel zu starten, soll diese Zelle ausgeführt werden:"
   ]
  },
  {
   "cell_type": "code",
   "execution_count": null,
   "metadata": {},
   "outputs": [],
   "source": [
    "import chess\n",
    "import chess.pgn\n",
    "from engine import *\n",
    "\n",
    "pgn = chess.pgn.Game()\n",
    "node = pgn\n",
    "game = start_state()\n",
    "print(\"Successful!\")"
   ]
  },
  {
   "cell_type": "markdown",
   "metadata": {},
   "source": [
    "Soll ein Zug gespielt werden, kann dieser in UCI Notation in der folgenden Zelle als zweiter Parameter an die Funktion *move* übergeben werden."
   ]
  },
  {
   "cell_type": "code",
   "execution_count": null,
   "metadata": {},
   "outputs": [],
   "source": [
    "move_to_go = \"e2e4\"\n",
    "node = node.add_variation(chess.Move.from_uci(move_to_go))\n",
    "game = move(game, move_to_go)\n",
    "print(move_to_go, \"played!\")"
   ]
  },
  {
   "cell_type": "markdown",
   "metadata": {},
   "source": [
    "Soll ein Zug von der Engine ausgeführt werden, kann die folgende Zelle ausgeführt werden. Der Parameter *seconds* reguliert den Scheduler in *time_management.py* und legt fest, wie lange die Engine in der gegebenen Position den Suchbaum absucht."
   ]
  },
  {
   "cell_type": "code",
   "execution_count": null,
   "metadata": {},
   "outputs": [],
   "source": [
    "move_played, game = search(game, seconds=10)\n",
    "node = node.add_variation(move_played)\n",
    "print(\"Finished searching!\")"
   ]
  },
  {
   "cell_type": "markdown",
   "metadata": {},
   "source": [
    "Um den aktuellen Zustand des Boards in *game* auszugeben, kann die folgende Zelle verwendet werden. Mithilfe von *chess.svg* wird ein SVG als Zellenoutput dargestellt. Mithilfe des Parameters *size* kann die dargestellte Größe des SVG in Pixeln verändert werden."
   ]
  },
  {
   "cell_type": "code",
   "execution_count": null,
   "metadata": {},
   "outputs": [],
   "source": [
    "import chess.svg\n",
    "chess.svg.board(board=game,size=500)"
   ]
  },
  {
   "cell_type": "markdown",
   "metadata": {},
   "source": [
    "Um die PGN einer gespielten (oder gerade laufenden) Partie auszugeben, damit diese in einer anderen GUI der Wahl betrachtet werden kann, kann diese mithilfe der nächsten Zelle ausgegeben werden."
   ]
  },
  {
   "cell_type": "code",
   "execution_count": null,
   "metadata": {},
   "outputs": [],
   "source": [
    "print(pgn)"
   ]
  }
 ],
 "metadata": {
  "kernelspec": {
   "display_name": "Python 3",
   "language": "python",
   "name": "python3"
  },
  "language_info": {
   "codemirror_mode": {
    "name": "ipython",
    "version": 3
   },
   "file_extension": ".py",
   "mimetype": "text/x-python",
   "name": "python",
   "nbconvert_exporter": "python",
   "pygments_lexer": "ipython3",
   "version": "3.6.7"
  }
 },
 "nbformat": 4,
 "nbformat_minor": 2
}
